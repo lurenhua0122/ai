{
 "cells": [
  {
   "cell_type": "markdown",
   "id": "744fb5e1-4cbc-4650-8ba9-3a7a3fc893d9",
   "metadata": {},
   "source": [
    "## OpenAI Assistants API with LangChain\n",
    "OpenAI finally released the Assistants API. It allows users to build AI assistants within the applications.\n",
    "\n",
    "An Assistant has instructions and can leverage models, tools, and knowledge to respond to user queries. The Assistants API currently supports three types of tools:\n",
    "\n",
    "Code Interpreter\n",
    "Retrieval\n",
    "Function calling\n",
    "In this tutorial, I will share with you 2 ways of using Assistants API:\n",
    "\n",
    "Command line tool curl\n",
    "LangChain\n",
    "You can surely use the official OpenAI Python SDK. It's just not covered in this tutorial.\n",
    "\n",
    "In principle, to interact with an Assistant, the following steps should be followed:\n",
    "\n",
    "-Create an Assistant\n",
    "-Create a Thread\n",
    "-Submit a Run\n",
    "-Query the Run status\n",
    "-Retrieve the Assistant's response (message)\n",
    "\n",
    "### Play with curl\n",
    "Before you run the following commands, make sure you have a valid OPENAI_API_KEY environmental variable set.\n",
    "\n",
    "1. Create an Assistant"
   ]
  },
  {
   "cell_type": "code",
   "execution_count": null,
   "id": "e480d4e5-c433-4a39-8e9c-fcbb27b92a8f",
   "metadata": {},
   "outputs": [],
   "source": [
    "curl \"https://api.openai.com/v1/assistants\" \\\n",
    "  -u:$OPENAI_API_KEY \\\n",
    "  -H \"Content-Type: application/json\" \\\n",
    "  -H \"OpenAI-Beta: assistants=v1\" \\\n",
    "  -d '{\n",
    "    \"instructions\": \"You are a personal math tutor. When asked a question, write and run Python code to answer the question.\",\n",
    "    \"name\": \"Math Tutor\",\n",
    "    \"tools\": [{\"type\": \"code_interpreter\"}],\n",
    "    \"model\": \"gpt-4\"\n",
    "  }'\n",
    "\n",
    "\n",
    "#You will be given an assistant id in this API response.\n",
    "\n",
    "{\n",
    "  \"id\": \"asst_M1qNqUsUIeItZ8f7JG6FLHTy\",\n",
    "  \"object\": \"assistant\",\n",
    "  \"created_at\": 1699486594,\n",
    "  \"name\": \"Math Tutor\",\n",
    "  \"description\": null,\n",
    "  \"model\": \"gpt-4\",\n",
    "  \"instructions\": \"You are a personal math tutor. When asked a question, write and run Python code to answer the question.\",\n",
    "  \"tools\": [\n",
    "    {\n",
    "      \"type\": \"code_interpreter\"\n",
    "    }\n",
    "  ],\n",
    "  \"file_ids\": [],\n",
    "  \"metadata\": {}\n",
    "}%\n"
   ]
  },
  {
   "cell_type": "markdown",
   "id": "c7c81168-1cde-4de5-8cc8-3734e244a4e9",
   "metadata": {},
   "source": [
    "2. Create a Thread\n",
    "A Thread represents a conversation between an Assistant and a user."
   ]
  },
  {
   "cell_type": "code",
   "execution_count": null,
   "id": "a07609c0-1a22-458d-86e4-f7211ad6f039",
   "metadata": {},
   "outputs": [],
   "source": [
    "curl https://api.openai.com/v1/threads \\\n",
    "  -u:$OPENAI_API_KEY \\\n",
    "  -H 'Content-Type: application/json' \\\n",
    "  -H 'OpenAI-Beta: assistants=v1' \\\n",
    "  -d '{\n",
    "    \"messages\": [\n",
    "      {\n",
    "          \"role\": \"user\",\n",
    "          \"content\": \"Work out the sum of 1, 2 and 3\"\n",
    "      }\n",
    "    ]\n",
    "  }'\n",
    "#You will be given a Thread id in this API response.\n",
    "\n",
    "{\n",
    "  \"id\": \"thread_lEH83Q4bKV3hv4Y9yECcjfgy\",\n",
    "  \"object\": \"thread\",\n",
    "  \"created_at\": 1699486702,\n",
    "  \"metadata\": {}\n",
    "}"
   ]
  },
  {
   "cell_type": "markdown",
   "id": "0a8fd68e-497c-470b-99cf-d655478b42dc",
   "metadata": {},
   "source": [
    "3. Submit a Run\n",
    "Submit a Run with the thread id and assistant id to run the conversation."
   ]
  },
  {
   "cell_type": "code",
   "execution_count": null,
   "id": "ccee4ec6-8aa6-43fa-943e-91b645946185",
   "metadata": {},
   "outputs": [],
   "source": [
    "curl https://api.openai.com/v1/threads/<thread_id>/runs \\\n",
    "  -u:$OPENAI_API_KEY \\\n",
    "  -H 'Content-Type: application/json' \\\n",
    "  -H 'OpenAI-Beta: assistants=v1' \\\n",
    "  -d '{\n",
    "    \"assistant_id\": \"asst_M1qNqUsUIeItZ8f7JG6FLHTy\"\n",
    "  }'\n",
    "#You will be given a Run id in this API response.\n",
    "\n",
    "{\n",
    "  \"id\": \"run_in35OoYZNo0osZnQOQrAHaNo\",\n",
    "  \"object\": \"thread.run\",\n",
    "  \"created_at\": 1699486777,\n",
    "  \"assistant_id\": \"asst_M1qNqUsUIeItZ8f7JG6FLHTy\",\n",
    "  \"thread_id\": \"thread_lEH83Q4bKV3hv4Y9yECcjfgy\",\n",
    "  \"status\": \"queued\",\n",
    "  \"started_at\": null,\n",
    "  \"expires_at\": 1699487377,\n",
    "  \"cancelled_at\": null,\n",
    "  \"failed_at\": null,\n",
    "  \"completed_at\": null,\n",
    "  \"last_error\": null,\n",
    "  \"model\": \"gpt-4\",\n",
    "  \"instructions\": \"You are a personal math tutor. When asked a question, write and run Python code to answer the question.\",\n",
    "  \"tools\": [\n",
    "    {\n",
    "      \"type\": \"code_interpreter\"\n",
    "    }\n",
    "  ],\n",
    "  \"file_ids\": [],\n",
    "  \"metadata\": {}\n",
    "}"
   ]
  },
  {
   "cell_type": "markdown",
   "id": "70bfd80d-a0ec-4abd-bc0c-7a6a982ba556",
   "metadata": {},
   "source": [
    "4. Query the Run status"
   ]
  },
  {
   "cell_type": "code",
   "execution_count": null,
   "id": "86fbc0f9-7635-46d4-8ac7-65cf473f6d13",
   "metadata": {},
   "outputs": [],
   "source": [
    "curl https://api.openai.com/v1/threads/<thread_id>/runs/<run_id> \\\n",
    "  -u:$OPENAI_API_KEY \\\n",
    "  -H 'OpenAI-Beta: assistants=v1'\n",
    "#You will see the status of the Run in the API response.\n",
    "\n",
    "{\n",
    "  \"id\": \"run_in35OoYZNo0osZnQOQrAHaNo\",\n",
    "  \"object\": \"thread.run\",\n",
    "  \"created_at\": 1699486777,\n",
    "  \"assistant_id\": \"asst_M1qNqUsUIeItZ8f7JG6FLHTy\",\n",
    "  \"thread_id\": \"thread_lEH83Q4bKV3hv4Y9yECcjfgy\",\n",
    "  \"status\": \"completed\",\n",
    "  \"started_at\": 1699486777,\n",
    "  \"expires_at\": null,\n",
    "  \"cancelled_at\": null,\n",
    "  \"failed_at\": null,\n",
    "  \"completed_at\": 1699486783,\n",
    "  \"last_error\": null,\n",
    "  \"model\": \"gpt-4\",\n",
    "  \"instructions\": \"You are a personal math tutor. When asked a question, write and run Python code to answer the question.\",\n",
    "  \"tools\": [\n",
    "    {\n",
    "      \"type\": \"code_interpreter\"\n",
    "    }\n",
    "  ],\n",
    "  \"file_ids\": [],\n",
    "  \"metadata\": {}\n",
    "}%"
   ]
  },
  {
   "cell_type": "markdown",
   "id": "746d897a-c54a-41bd-bd88-e3ad39fd7cb0",
   "metadata": {},
   "source": [
    "5. Retrieve the Assistant's response\n",
    "The Assistant's response will be the latest message in the following API response:\n",
    "\n"
   ]
  },
  {
   "cell_type": "code",
   "execution_count": null,
   "id": "cfab5c4d-a232-409c-bdfd-594954fa1b25",
   "metadata": {},
   "outputs": [],
   "source": [
    "curl https://api.openai.com/v1/threads/<thread_id>/messages \\\n",
    "  -u:$OPENAI_API_KEY \\\n",
    "  -H \"Content-Type: application/json\" \\\n",
    "  -H \"OpenAI-Beta: assistants=v1\"\n",
    "#Sample response:\n",
    "\n",
    "{\n",
    "  \"object\": \"list\",\n",
    "  \"data\": [\n",
    "    {\n",
    "      \"id\": \"msg_bCgflETMYexEUEGqHkwNgN6Z\",\n",
    "      \"object\": \"thread.message\",\n",
    "      \"created_at\": 1699486782,\n",
    "      \"thread_id\": \"thread_lEH83Q4bKV3hv4Y9yECcjfgy\",\n",
    "      \"role\": \"assistant\",\n",
    "      \"content\": [\n",
    "        {\n",
    "          \"type\": \"text\",\n",
    "          \"text\": {\n",
    "            \"value\": \"The sum of 1, 2, and 3 is 6.\",\n",
    "            \"annotations\": []\n",
    "          }\n",
    "        }\n",
    "      ],\n",
    "      \"file_ids\": [],\n",
    "      \"assistant_id\": \"asst_M1qNqUsUIeItZ8f7JG6FLHTy\",\n",
    "      \"run_id\": \"run_in35OoYZNo0osZnQOQrAHaNo\",\n",
    "      \"metadata\": {}\n",
    "    },\n",
    "    {\n",
    "      \"id\": \"msg_I4xv8bsfy5evvEC8K4MVZar3\",\n",
    "      \"object\": \"thread.message\",\n",
    "      \"created_at\": 1699486702,\n",
    "      \"thread_id\": \"thread_lEH83Q4bKV3hv4Y9yECcjfgy\",\n",
    "      \"role\": \"user\",\n",
    "      \"content\": [\n",
    "        {\n",
    "          \"type\": \"text\",\n",
    "          \"text\": {\n",
    "            \"value\": \"Work out the sum of 1, 2 and 3\",\n",
    "            \"annotations\": []\n",
    "          }\n",
    "        }\n",
    "      ],\n",
    "      \"file_ids\": [],\n",
    "      \"assistant_id\": null,\n",
    "      \"run_id\": null,\n",
    "      \"metadata\": {}\n",
    "    }\n",
    "  ],\n",
    "  \"first_id\": \"msg_bCgflETMYexEUEGqHkwNgN6Z\",\n",
    "  \"last_id\": \"msg_I4xv8bsfy5evvEC8K4MVZar3\",\n",
    "  \"has_more\": false\n",
    "}%\n"
   ]
  },
  {
   "cell_type": "code",
   "execution_count": null,
   "id": "9dae277f-f4d1-4cbd-9e7c-7f0a47a1be7f",
   "metadata": {},
   "outputs": [],
   "source": []
  },
  {
   "cell_type": "code",
   "execution_count": null,
   "id": "9f26063a-93a2-4bee-b567-c9998d46544b",
   "metadata": {},
   "outputs": [],
   "source": []
  },
  {
   "cell_type": "code",
   "execution_count": null,
   "id": "8addb1d9-2783-4aa9-839c-d36e2d624dd3",
   "metadata": {},
   "outputs": [],
   "source": []
  },
  {
   "cell_type": "markdown",
   "id": "29a18248-f26d-4563-b1d4-45d01ad7875f",
   "metadata": {},
   "source": [
    "### Play with LangChain\n",
    "LangChain dev team has been responding to OpenAI changes proactively. The latest RC version of LangChain has already supported Assistants API.\n",
    "\n",
    "Make sure you use at least version 0.0.331rc2 of LangChain to work with Assistants API.\n",
    "\n",
    "Currently LangChain is delivering the Assistants support by langchain-experimental package.\n",
    "\n",
    "The only class you need is just OpenAIAssistantRunnable, which makes code much cleaner.\n",
    "\n",
    "Let's see below."
   ]
  },
  {
   "cell_type": "code",
   "execution_count": null,
   "id": "971f3326-17dd-4330-8b62-9f6db70fbc79",
   "metadata": {},
   "outputs": [],
   "source": [
    "import os\n",
    "os.environ[\"OPENAI_API_KEY\"] = 'your valid OpenAI API key with GPT-4 enabled'"
   ]
  },
  {
   "cell_type": "code",
   "execution_count": null,
   "id": "c7453652-642c-4645-b219-b503520411d0",
   "metadata": {},
   "outputs": [],
   "source": [
    "!pip install -U -q \"langchain==0.0.331rc2\" langchain-experimental \"openai>=1.1\"\n"
   ]
  },
  {
   "cell_type": "markdown",
   "id": "64bd9215-d128-4b99-954b-371d37cbaf9e",
   "metadata": {},
   "source": [
    "from langchain_experimental.openai_assistant import OpenAIAssistantRunnable\n"
   ]
  },
  {
   "cell_type": "code",
   "execution_count": null,
   "id": "6e179694-305b-432b-8c36-e1d29ee2377a",
   "metadata": {},
   "outputs": [],
   "source": [
    "\n",
    "interpreter_assistant = OpenAIAssistantRunnable.create_assistant(\n",
    "    name=\"langchain assistant\",\n",
    "    instructions=\"You are a personal math tutor. When asked a question, write and run Python code to answer the question.\",\n",
    "    tools=[{\"type\": \"code_interpreter\"}],\n",
    "    model=\"gpt-4\"\n",
    ")\n",
    "    "
   ]
  },
  {
   "cell_type": "code",
   "execution_count": null,
   "id": "c875d871-bd04-4baf-9661-962e44e66d33",
   "metadata": {},
   "outputs": [],
   "source": [
    "\n",
    "output = interpreter_assistant.invoke({\"content\": \"Work out the sum of 1, 2 and 3\"})\n",
    "output\n",
    "     "
   ]
  },
  {
   "cell_type": "code",
   "execution_count": null,
   "id": "86f31f39-8d4d-46a9-a7d4-2d2a92e48414",
   "metadata": {},
   "outputs": [],
   "source": []
  },
  {
   "cell_type": "code",
   "execution_count": null,
   "id": "0b01c483-e433-48c9-b492-09a30b5b21f2",
   "metadata": {},
   "outputs": [],
   "source": []
  }
 ],
 "metadata": {
  "kernelspec": {
   "display_name": "Python 3 (ipykernel)",
   "language": "python",
   "name": "python3"
  },
  "language_info": {
   "codemirror_mode": {
    "name": "ipython",
    "version": 3
   },
   "file_extension": ".py",
   "mimetype": "text/x-python",
   "name": "python",
   "nbconvert_exporter": "python",
   "pygments_lexer": "ipython3",
   "version": "3.9.12"
  }
 },
 "nbformat": 4,
 "nbformat_minor": 5
}
